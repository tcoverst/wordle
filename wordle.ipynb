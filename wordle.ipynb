from IPython.core.display import update_display
# solution goes here.
import random # see random.choice() to choose a new work
import requests # see requests.get(url) to check if word is correct
import json # see json.loads() and json.dumps() to convert between text and json
from termcolor import colored # use colored() to color sepearte letters.

class wordleGame: 
  def __init__(self): #runs these commands once when initialized 
    self.words_list = []
    self.correct_word = ''
    self.this_word = ''
    self.colors = []
    self.tries = 0
    self.max_tries = 6
    self.qwerty_str = ''' q w e r t y u i o p a s d f g h j k l z x c v b n m'''
    self.qwerty_str = self.qwerty_str.upper()
    self.qwertyColors = ["grey"] * 2*len(self.qwerty_str)
    self.filename = 'words.txt'
    self.api_url = 'https://api.dictionaryapi.dev/api/v2/entries/en/'
    self.load_file()

    

  def load_file(self): #Done- should load words from the file words.txt into self.words_list. Create words.txt using the cell below.
    #adds the possible words into self.words_list one at a time
    with open("words.txt") as possibleWords: 
      for line in possibleWords:
        self.words_list.append(line[0:5])
  def wordle(self): #- calling this method runs the entire game - sets a new correct word, gets input from user, shows output to user
    self.correct_word = random.choice(self.words_list).upper() # randomly picks the correct word
    #print(self.correct_word + ' is the correct word')
    self.attempt = 1      
    #loops the user picking their answer and wordle giving response
    while(self.attempt <= 6): 
      #sees if the user got the correct answer
      if (self.colors == ['green', 'green', 'green', 'green', 'green']): 
        break
      self.colors = ['grey', 'grey', 'grey', 'grey', 'grey']
      #user inputs their guess
      self.this_word = input("Please enter a five letter word: Trial-{} ".format(self.attempt)).upper()
      #checks to see if it is a valid answer
      if (self.is_word() and len(self.this_word) == 5): 
        self.break_letters()
      elif (self.is_word() != True):
        print('Word does not exist')
      else:
        print('Is not a word 5 letter word')
      #adds one to each attempt
      self.attempt = self.attempt + 1
    if (self.attempt > 6 and self.colors != ['green', 'green', 'green', 'green', 'green']):
      print("Out of tries. Game Over")
    elif (self.colors == ['green', 'green', 'green', 'green', 'green']):
      print("You Win!")
    print("The correct word is: ", self.correct_word)
  def is_word(self): #- returns true if the self.this_word is a real word. It makes a call to the dictionary api to determine this.
    #API Call

    response = requests.get(self.api_url + self.this_word) 
    #Checks status code to see if word is founf in dictionary api / if it exists
    if response.status_code == 200:
      return True
    else:
      return False
  def break_letters(self): #- breaks the self.this_word into its individual letters and uses self.check_letter(letter, position) to figure out what color the letter should be assigned.
    # iterates through each letter and checks letter
    for x in range(0, len(self.this_word)):
      self.check_letter(self.this_word[x], x)
    # displays the word with the correct color and updates 
    self.display_word()
  def check_letter(self, guessletter, guessposition): #- checks whether the letter and position of the letter against the self.correct_word to determine whether the letter should be green(correct letter and correct position), yellow(correct letter and wrong position) or grey(letter not present in self.correct_word)
    #starts each letter off as grey and checks to see if they should be changed
    for correctLetter in range(0, len(self.correct_word)):
      #sees if they should be yellow
      if (self.correct_word[correctLetter] == guessletter) and (correctLetter != guessposition) and (self.colors[guessposition] != 'green'):#self.correct_word.index(letterAns) != position):
        self.colors[guessposition] = 'yellow'
      #sees if they should be green
      elif (self.correct_word[correctLetter] == guessletter) and (correctLetter == guessposition):
        self.colors[guessposition] = 'green'
      elif (self.correct_word[correctLetter] != guessletter) and (correctLetter != guessposition and (self.colors[guessposition] != 'green') and (self.colors[guessposition] != 'yellow')):
        self.colors[guessposition] = 'white'
  def display_word(self): #- uses self.this_word and self.colors to display the self.this_word with appropriate colors
    # itterates through each letter and sets the correct color
    word_displayed = ''
    for x in range(0, len(self.this_word)):
      colored_letter = colored(self.this_word[x], color=self.colors[x])
      word_displayed = word_displayed + colored_letter
      #calls self.update_qwerty to reflect the changes in the alphabet
      self.update_qwerty(self.this_word[x], colored_letter, x)
    print(word_displayed)
    print(self.word_qwertydisplayed)
  def update_qwerty(self, letter, colored_letter, thisIndex): #- updates the self.qwerty_str with the right colors - green(correct letter and position so far) and yellow(correct letter so far) and ‘white’(no occurrence in self.correct_word) for all the letters that have been tried by the user so far
    # itterates through each letter and sets the correct color
    self.word_qwertydisplayed = ''
    for letterAns in self.qwerty_str:
      if letterAns == letter.upper():
        self.qwertyColors[self.qwerty_str.index(letterAns)] = self.colors[self.this_word.index(letter)]
      
      colored_qwertyletter = colored(letterAns, color=self.qwertyColors[self.qwerty_str.index(letterAns)])
      self.word_qwertydisplayed = self.word_qwertydisplayed + colored_qwertyletter    
    


word1 = wordleGame()
word1.wordle()
